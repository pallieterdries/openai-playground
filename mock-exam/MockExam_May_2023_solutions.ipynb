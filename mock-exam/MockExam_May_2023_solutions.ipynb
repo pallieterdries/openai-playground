{
 "cells": [
  {
   "cell_type": "markdown",
   "id": "c48b0acd",
   "metadata": {},
   "source": [
    "# Large omics mock exam - solutions\n",
    "\n",
    "The official exam will take 3 hours. This test exam only 2 hours. Questions will be similar to this exam, but the official exam will have a number of additional theoretical questions. \n",
    "\n",
    "**Note:** \n",
    "\n",
    "* The exam is open book, open internet. However the use of any communication tool (chat, mail, etc) is strictly forbidden - you will automatically fail the exam.\n",
    "* You are allowed to use Github during the exam - but do not post any comments without consulting me (for example to correct an obvious mistake).\n",
    "* For all questions - please provide comments describing what you are plannning to do. Even if you get stuck - add comments describing the followup steps - If I understand your thought process - I can still give you a partial score.\n",
    "\n",
    "You will be expected to upload the following files to a Toledo Mock Exam Assignment (the mock exam will not be graded - but you can upload anyway to practice. Please upload:\n",
    "\n",
    "* This ipython notebook with your answers. (download using `Jupyter menu / File / Download as / Notebook (.ipynb)`) \n",
    "* An HTML copy of this notebook (download using `Jupyter menu / File / Download as / HTML (.html)`) - Note you must zip this file prior to upload, Toledo does not allow html file uploads.\n",
    "* Exercise 1:\n",
    "    * Your new Snakemake file (`Snakefile`)\n",
    "    * `indels.0.png`\n",
    "* Exercise 3:\n",
    "    * Variant impact plots for NOTCH1 and OLFM1\n",
    "\n",
    "Do not leave uploading files to the last minute - the assignment will automatically close. You are allowed multiple uploads - last one counts.\n",
    "\n",
    "\n",
    "## Create and work in an work folder.\n",
    "\n",
    "Prior to starting the exam make sure you create a work folder:\n",
    "\n",
    "```\n",
    "mkdir -p $VSC_DATA/test_exam_2023\n",
    "cd $VSC_DATA/test_exam_2023\n",
    "```\n",
    "\n",
    "Subsequently, copy this jupyter notebook to that folder - and open it again in jupyter.\n",
    "\n",
    "Best of luck, Mark"
   ]
  },
  {
   "cell_type": "markdown",
   "id": "d3faba25",
   "metadata": {},
   "source": [
    "## Preparation\n",
    "\n",
    "### Data required\n",
    "\n",
    "Copy the data files to your work folder:\n",
    "\n",
    "```\n",
    "cd $VSC_DATA/test_exam_2023 \n",
    "cp -r /staging/leuven/stg_00079/teaching/mock_exam/2023/* .\n",
    "```\n",
    "\n",
    "###  Terminal/Conda\n",
    "\n",
    "Do your (CPU intensive) command line work in a VSC interactive session.\n",
    "\n",
    "For **all** command line work (including snakemake) - make sure you use the correct conda environment by running the following in your shell:\n",
    "\n",
    "    export PATH=/staging/leuven/stg_00079/teaching/miniconda3/envs/large_omics_2023_b/bin:$PATH\n",
    "    \n",
    "You can check if you have the correct kernel loaded by running:\n",
    "\n",
    "    which python\n",
    "    \n",
    "Which should yield `/staging/leuven/stg_00079/teaching/miniconda3/envs/large_omics_2023_b/bin/python`\n",
    "\n",
    "\n",
    "### Jupyter\n",
    "\n",
    "Ensure you use the correct kernel for the jupyter work! You can confirm you have the correct kernel by running (in python):\n",
    "\n",
    "    import sys\n",
    "    sys.executable\n",
    "    \n",
    "Which should yield `/staging/leuven/stg_00079/teaching/miniconda3/envs/large_omics_2023_b/bin/python`"
   ]
  },
  {
   "cell_type": "code",
   "execution_count": 1,
   "id": "a3703e58",
   "metadata": {
    "tags": []
   },
   "outputs": [
    {
     "data": {
      "text/plain": [
       "'/staging/leuven/stg_00079/teaching/miniconda3/envs/large_omics_2023_b/bin/python'"
      ]
     },
     "execution_count": 1,
     "metadata": {},
     "output_type": "execute_result"
    }
   ],
   "source": [
    "import sys\n",
    "sys.executable"
   ]
  },
  {
   "cell_type": "markdown",
   "id": "1a311a0d",
   "metadata": {},
   "source": [
    "### Import a few modules\n",
    "(do not forget to execute the cell below!)"
   ]
  },
  {
   "cell_type": "code",
   "execution_count": 2,
   "id": "f6167e3d",
   "metadata": {
    "tags": []
   },
   "outputs": [],
   "source": [
    "import sqlite3\n",
    "import os\n",
    "import pandas as pd\n",
    "import matplotlib.pyplot as plt\n",
    "import seaborn as sns"
   ]
  },
  {
   "cell_type": "markdown",
   "id": "87a83c32",
   "metadata": {},
   "source": [
    "## Question 1 - Snakemake\n",
    "\n",
    "In your exam folder you wil a snakemake folder containing the workflow definition (`snakemake/Snakefile`). The Snakefile is exactly the workflow we discussed during this course. The workflow has almost completely executed (except for the snpEff step).\n",
    "\n",
    "The objective of this question is to add a new analysis step to the Snakemake file.\n",
    "\n",
    "The Snakemake file will have to run [`bcftools stats`](https://samtools.github.io/bcftools/bcftools.html#stats) and subsequent [`plot-vcfstats`](https://samtools.github.io/bcftools/bcftools.html#plot-vcfstats) to create a number of plots visualizing a number statistics from the VCF file. \n",
    "\n",
    "**Note**:\n",
    "\n",
    " * You must add **a new [rule](https://snakemake.readthedocs.io/en/stable/snakefiles/rules.html)** to the `Snakefile` - not adapt an existing rule!\n",
    " * Ensure the new rule gets automatically executed when running Snakemake without defining a rule.\n",
    " * Ensure the stats are executed on the annotated vcf file generated by the snpEff step.\n",
    " * Please upload your new `Snakefile` and the generated `indels.0.png` to the Toledo assignment.\n",
    " * Make sure all generated output end up in a dedicated subfolder (eg `060.stats`). Copy the output of `ls -lt` on the new snakemake stats output folder in the markdown cell below."
   ]
  },
  {
   "cell_type": "code",
   "execution_count": 3,
   "id": "4b0e9b0d",
   "metadata": {
    "tags": []
   },
   "outputs": [],
   "source": [
    "#\n",
    "# See the `Snakefile_answer` in the Q-A repository\n",
    "# "
   ]
  },
  {
   "cell_type": "code",
   "execution_count": null,
   "id": "b919d64e-d0cf-4273-b08d-fb75a391b8e8",
   "metadata": {},
   "outputs": [],
   "source": []
  },
  {
   "cell_type": "markdown",
   "id": "a324d803",
   "metadata": {},
   "source": [
    "## Question 2 - Extending the SNP database\n",
    "\n",
    "In the exam folder you will find a notebook called `ParseVCF.ipynb` that was used to create the database `exam.sqlite` - also in the exam folder. Check the `ParseVCF.ipynb` file to see how this database was created. In particular, note the snp identifier format that we use to link tables (in the `snp` column)."
   ]
  },
  {
   "cell_type": "code",
   "execution_count": 4,
   "id": "0d5d4b06",
   "metadata": {
    "tags": []
   },
   "outputs": [
    {
     "data": {
      "text/html": [
       "<div>\n",
       "<style scoped>\n",
       "    .dataframe tbody tr th:only-of-type {\n",
       "        vertical-align: middle;\n",
       "    }\n",
       "\n",
       "    .dataframe tbody tr th {\n",
       "        vertical-align: top;\n",
       "    }\n",
       "\n",
       "    .dataframe thead th {\n",
       "        text-align: right;\n",
       "    }\n",
       "</style>\n",
       "<table border=\"1\" class=\"dataframe\">\n",
       "  <thead>\n",
       "    <tr style=\"text-align: right;\">\n",
       "      <th></th>\n",
       "      <th>snp</th>\n",
       "      <th>chrom</th>\n",
       "      <th>pos</th>\n",
       "      <th>quality</th>\n",
       "      <th>ref</th>\n",
       "      <th>type</th>\n",
       "      <th>alt</th>\n",
       "    </tr>\n",
       "  </thead>\n",
       "  <tbody>\n",
       "    <tr>\n",
       "      <th>0</th>\n",
       "      <td>chr9:127578816:C:T</td>\n",
       "      <td>chr9</td>\n",
       "      <td>127578816</td>\n",
       "      <td>36.1174</td>\n",
       "      <td>C</td>\n",
       "      <td>SNV</td>\n",
       "      <td>T</td>\n",
       "    </tr>\n",
       "    <tr>\n",
       "      <th>1</th>\n",
       "      <td>chr9:127578974:A:G</td>\n",
       "      <td>chr9</td>\n",
       "      <td>127578974</td>\n",
       "      <td>422.7380</td>\n",
       "      <td>A</td>\n",
       "      <td>SNV</td>\n",
       "      <td>G</td>\n",
       "    </tr>\n",
       "    <tr>\n",
       "      <th>2</th>\n",
       "      <td>chr9:127579080:A:G</td>\n",
       "      <td>chr9</td>\n",
       "      <td>127579080</td>\n",
       "      <td>172.0220</td>\n",
       "      <td>A</td>\n",
       "      <td>SNV</td>\n",
       "      <td>G</td>\n",
       "    </tr>\n",
       "    <tr>\n",
       "      <th>3</th>\n",
       "      <td>chr9:127663498:C:T</td>\n",
       "      <td>chr9</td>\n",
       "      <td>127663498</td>\n",
       "      <td>66.0472</td>\n",
       "      <td>C</td>\n",
       "      <td>SNV</td>\n",
       "      <td>T</td>\n",
       "    </tr>\n",
       "    <tr>\n",
       "      <th>4</th>\n",
       "      <td>chr9:127674824:G:T</td>\n",
       "      <td>chr9</td>\n",
       "      <td>127674824</td>\n",
       "      <td>24.6981</td>\n",
       "      <td>G</td>\n",
       "      <td>SNV</td>\n",
       "      <td>T</td>\n",
       "    </tr>\n",
       "  </tbody>\n",
       "</table>\n",
       "</div>"
      ],
      "text/plain": [
       "                  snp chrom        pos   quality ref type alt\n",
       "0  chr9:127578816:C:T  chr9  127578816   36.1174   C  SNV   T\n",
       "1  chr9:127578974:A:G  chr9  127578974  422.7380   A  SNV   G\n",
       "2  chr9:127579080:A:G  chr9  127579080  172.0220   A  SNV   G\n",
       "3  chr9:127663498:C:T  chr9  127663498   66.0472   C  SNV   T\n",
       "4  chr9:127674824:G:T  chr9  127674824   24.6981   G  SNV   T"
      ]
     },
     "execution_count": 4,
     "metadata": {},
     "output_type": "execute_result"
    }
   ],
   "source": [
    "dbfile = 'exam.sqlite'\n",
    "db = sqlite3.connect(dbfile)\n",
    "pd.read_sql('SELECT * FROM snp LIMIT 5', db)"
   ]
  },
  {
   "cell_type": "markdown",
   "id": "9007d9d2",
   "metadata": {},
   "source": [
    "In the exam folder you will also find a file called `dbsnp.tsv` which contains the dbSNP rs-ids for our vcf file. The first few lines look like this:\n",
    "\n",
    "    chrom  pos        ref  alt  dbsnp\n",
    "    chr9   127578816  C    T    rs4240419\n",
    "    chr9   127578974  A    G    rs4240420\n",
    "    chr9   127579080  A    G    rs4240421\n",
    "    chr9   127663498  C    T    rs7036307\n",
    "    chr9   127674824  G    T    None\n",
    "    chr9   127679143  G    T    None\n",
    "\n",
    "   \n",
    "Can you load the `dbsnp.tsv` file as a pandas DataFrame, create a SNP id in exactly the same format as in the rest of the database, and save this into a **new table** into the database?\n"
   ]
  },
  {
   "cell_type": "code",
   "execution_count": 5,
   "id": "2112fec8",
   "metadata": {
    "tags": []
   },
   "outputs": [
    {
     "name": "stdout",
     "output_type": "stream",
     "text": [
      "dbsnp records 3507\n"
     ]
    },
    {
     "data": {
      "text/html": [
       "<div>\n",
       "<style scoped>\n",
       "    .dataframe tbody tr th:only-of-type {\n",
       "        vertical-align: middle;\n",
       "    }\n",
       "\n",
       "    .dataframe tbody tr th {\n",
       "        vertical-align: top;\n",
       "    }\n",
       "\n",
       "    .dataframe thead th {\n",
       "        text-align: right;\n",
       "    }\n",
       "</style>\n",
       "<table border=\"1\" class=\"dataframe\">\n",
       "  <thead>\n",
       "    <tr style=\"text-align: right;\">\n",
       "      <th></th>\n",
       "      <th>chrom</th>\n",
       "      <th>pos</th>\n",
       "      <th>ref</th>\n",
       "      <th>alt</th>\n",
       "      <th>dbsnp</th>\n",
       "      <th>snp</th>\n",
       "    </tr>\n",
       "  </thead>\n",
       "  <tbody>\n",
       "    <tr>\n",
       "      <th>0</th>\n",
       "      <td>chr9</td>\n",
       "      <td>127578816</td>\n",
       "      <td>C</td>\n",
       "      <td>T</td>\n",
       "      <td>rs4240419</td>\n",
       "      <td>chr9:127578816:C:T</td>\n",
       "    </tr>\n",
       "    <tr>\n",
       "      <th>1</th>\n",
       "      <td>chr9</td>\n",
       "      <td>127578974</td>\n",
       "      <td>A</td>\n",
       "      <td>G</td>\n",
       "      <td>rs4240420</td>\n",
       "      <td>chr9:127578974:A:G</td>\n",
       "    </tr>\n",
       "    <tr>\n",
       "      <th>2</th>\n",
       "      <td>chr9</td>\n",
       "      <td>127579080</td>\n",
       "      <td>A</td>\n",
       "      <td>G</td>\n",
       "      <td>rs4240421</td>\n",
       "      <td>chr9:127579080:A:G</td>\n",
       "    </tr>\n",
       "    <tr>\n",
       "      <th>3</th>\n",
       "      <td>chr9</td>\n",
       "      <td>127663498</td>\n",
       "      <td>C</td>\n",
       "      <td>T</td>\n",
       "      <td>rs7036307</td>\n",
       "      <td>chr9:127663498:C:T</td>\n",
       "    </tr>\n",
       "    <tr>\n",
       "      <th>4</th>\n",
       "      <td>chr9</td>\n",
       "      <td>127674824</td>\n",
       "      <td>G</td>\n",
       "      <td>T</td>\n",
       "      <td>None</td>\n",
       "      <td>chr9:127674824:G:T</td>\n",
       "    </tr>\n",
       "  </tbody>\n",
       "</table>\n",
       "</div>"
      ],
      "text/plain": [
       "  chrom        pos ref alt      dbsnp                 snp\n",
       "0  chr9  127578816   C   T  rs4240419  chr9:127578816:C:T\n",
       "1  chr9  127578974   A   G  rs4240420  chr9:127578974:A:G\n",
       "2  chr9  127579080   A   G  rs4240421  chr9:127579080:A:G\n",
       "3  chr9  127663498   C   T  rs7036307  chr9:127663498:C:T\n",
       "4  chr9  127674824   G   T       None  chr9:127674824:G:T"
      ]
     },
     "execution_count": 5,
     "metadata": {},
     "output_type": "execute_result"
    }
   ],
   "source": [
    "# First - create a pandas table with the data. This is easy\n",
    "# as pandas can read csv:\n",
    "\n",
    "dbsnp = pd.read_csv('dbsnp.tsv', sep=\"\\t\")\n",
    "\n",
    "# Important is to create a 'snp' column with an identifiers\n",
    "# of exactly the same format. There are many ways to do this:\n",
    "\n",
    "dbsnp['snp'] = dbsnp['chrom'].astype(str) \\\n",
    "        + \":\" + dbsnp['pos'].astype(str) \\\n",
    "        + \":\" + dbsnp['ref'] \\\n",
    "        + \":\" + dbsnp['alt'] \n",
    "\n",
    "# And save the table to your database (as we did for the other \n",
    "# tables as well)\n",
    "print('dbsnp records', \n",
    "      dbsnp.to_sql('dbsnp', db, if_exists='replace', index=False))\n",
    "\n",
    "# show the first few lines - to be sure everything is in order\n",
    "dbsnp.head()"
   ]
  },
  {
   "cell_type": "code",
   "execution_count": null,
   "id": "e45d7515",
   "metadata": {},
   "outputs": [],
   "source": []
  },
  {
   "cell_type": "markdown",
   "id": "3ea77cc9",
   "metadata": {},
   "source": [
    "**Question:** With this new table, can you write a SQL query to find the dbSnp ID of the single HIGH impact variant in the `FAM166A` gene? \n"
   ]
  },
  {
   "cell_type": "code",
   "execution_count": 6,
   "id": "6c6769d2",
   "metadata": {
    "tags": []
   },
   "outputs": [
    {
     "data": {
      "text/html": [
       "<div>\n",
       "<style scoped>\n",
       "    .dataframe tbody tr th:only-of-type {\n",
       "        vertical-align: middle;\n",
       "    }\n",
       "\n",
       "    .dataframe tbody tr th {\n",
       "        vertical-align: top;\n",
       "    }\n",
       "\n",
       "    .dataframe thead th {\n",
       "        text-align: right;\n",
       "    }\n",
       "</style>\n",
       "<table border=\"1\" class=\"dataframe\">\n",
       "  <thead>\n",
       "    <tr style=\"text-align: right;\">\n",
       "      <th></th>\n",
       "      <th>dbsnp</th>\n",
       "      <th>gene</th>\n",
       "      <th>impact</th>\n",
       "    </tr>\n",
       "  </thead>\n",
       "  <tbody>\n",
       "    <tr>\n",
       "      <th>0</th>\n",
       "      <td>rs9775264</td>\n",
       "      <td>FAM166A</td>\n",
       "      <td>HIGH</td>\n",
       "    </tr>\n",
       "  </tbody>\n",
       "</table>\n",
       "</div>"
      ],
      "text/plain": [
       "       dbsnp     gene impact\n",
       "0  rs9775264  FAM166A   HIGH"
      ]
     },
     "execution_count": 6,
     "metadata": {},
     "output_type": "execute_result"
    }
   ],
   "source": [
    "# We need to join the effect & dbsnp tables which we can do \n",
    "# on the `snp` column. After that we only need to select\n",
    "# on the gene name and snp impact.\n",
    "#\n",
    "# Because there is more than one FAM166A splice variant \n",
    "# with that high impact SNP - I use DISTINCT to prevent\n",
    "# output of duplicate records. \n",
    "#\n",
    "# There is no need to also join in the `snp` table\n",
    "\n",
    "pd.read_sql(\n",
    "    \"\"\"SELECT DISTINCT \n",
    "              dbsnp.dbsnp, \n",
    "              snp_effect.gene, \n",
    "              snp_effect.impact\n",
    "         FROM dbsnp, snp_effect\n",
    "        WHERE dbsnp.snp = snp_effect.snp\n",
    "          AND snp_effect.gene = \"FAM166A\"\n",
    "          and snp_effect.impact = \"HIGH\"\n",
    "        LIMIT 5\n",
    "    \"\"\", db)"
   ]
  },
  {
   "cell_type": "markdown",
   "id": "364f5760",
   "metadata": {},
   "source": [
    "## Question 3 - Visualization\n",
    "\n",
    "Given the our annotated database in `exam.sqlite` with tables `snp`, `snp_call` and `snp_effect` (the database we created during class):\n",
    "\n",
    "Can you create a plot showing the distribution of effect types for a given gene name?\n",
    "\n",
    "* Please formulate this as a function with the name of the gene as an argument (expand the skeleton below)\n",
    "* Save the generated plot as a PNG image (using the correct `matplotlib` function!).\n",
    "* Create plots for the genes `NOTCH1` and `OLFM1`, upload the plots to the Toledo Assignment.\n",
    "* Some SNPs have multiple effects at the same time (for example: `splice_region_variant&intron_variant`) - you can plot these as they are - no need to separate them.\n",
    "* Note - read this github issue: https://github.com/I0U19A-Large-Omics/Q-A/issues/41 \n",
    "* Warning - if you think you damaged the sqlite database in the previous step - you can always get a fresh copy from: `/lustre1/project/stg_00079/teaching/mock_exam/exam.sqlite`"
   ]
  },
  {
   "cell_type": "code",
   "execution_count": 7,
   "id": "6c284894",
   "metadata": {
    "tags": []
   },
   "outputs": [],
   "source": [
    "dbfile = 'exam.sqlite'\n",
    "db = sqlite3.connect(dbfile)"
   ]
  },
  {
   "cell_type": "code",
   "execution_count": 8,
   "id": "55cec9a8",
   "metadata": {
    "tags": []
   },
   "outputs": [
    {
     "name": "stdout",
     "output_type": "stream",
     "text": [
      "Processing gene: NOTCH1\n",
      "                   snp                              effect\n",
      "0   chr9:136493394:C:T             downstream_gene_variant\n",
      "1   chr9:136497184:G:A                  synonymous_variant\n",
      "2   chr9:136498615:C:T             downstream_gene_variant\n",
      "3   chr9:136498615:C:T                      intron_variant\n",
      "4   chr9:136498710:G:A             downstream_gene_variant\n",
      "..                 ...                                 ...\n",
      "92  chr9:136523808:A:G  non_coding_transcript_exon_variant\n",
      "93  chr9:136530005:T:G                      intron_variant\n",
      "94  chr9:136531587:G:C                      intron_variant\n",
      "95  chr9:136549395:C:T               upstream_gene_variant\n",
      "96  chr9:136550010:C:T               upstream_gene_variant\n",
      "\n",
      "[97 rows x 2 columns]\n",
      "effect\n",
      "downstream_gene_variant                 16\n",
      "intron_variant                          39\n",
      "missense_variant                         1\n",
      "non_coding_transcript_exon_variant       8\n",
      "splice_region_variant&intron_variant     2\n",
      "Name: snp, dtype: int64\n"
     ]
    },
    {
     "data": {
      "image/png": "[encoded data removed]",
      "text/plain": [
       "<Figure size 640x480 with 1 Axes>"
      ]
     },
     "metadata": {},
     "output_type": "display_data"
    }
   ],
   "source": [
    "# what data do I require? \n",
    "#    In this case this is not a very difficult question:\n",
    "#    Per gene - a table of the number of times I observe each \n",
    "#    snp effect.\n",
    "   \n",
    "# What visualization type? \n",
    "#    Multiple options are possible. For a one dimensional series of \n",
    "#    observations a barplot is a good choices\n",
    "\n",
    "# What is in the database?\n",
    "#    We only need the spn_effect table, which has a long list of\n",
    "#    every effect each SNP has, often repeated as a SNP has the same\n",
    "#    effect on multiple splice variants. As I do not want to see \n",
    "#    these duplicate records, I'll select \"DISTINCT snp, effect\"\n",
    "#    where the combination ensure to see each effect each SNP has\n",
    "#    only once.\n",
    "\n",
    "# Note - there are effects like \n",
    "#   `splice_region_variant&intron_variant` \n",
    "# which I'd normally suggest to disentangle - but that is a little\n",
    "# tricky to do using pandas. I do include this as an example in \n",
    "# a second function called `plot_gene_explode` \n",
    "\n",
    "\n",
    "def plot_gene(gene_name):\n",
    "    print(f\"Processing gene: {gene_name}\")\n",
    "    \n",
    "    # get the data from the database.\n",
    "    SQL = f'''SELECT DISTINCT snp,  effect\n",
    "                FROM snp_effect \n",
    "               WHERE snp_effect.gene = \"{gene_name}\"\n",
    "               '''\n",
    "    res = pd.read_sql(SQL, db)\n",
    "    \n",
    "    res2 = res.assign(\n",
    "        effect=res['effect'].str.split(',')).explode('effect')\n",
    "    print(res2)\n",
    "    # aggregate (groupby) over the effect, and then \n",
    "    # count (len) the number snp records we have \n",
    "    res = res.groupby('effect')['snp'].agg(len)\n",
    "    \n",
    "    # My code is - during development - full of print statements\n",
    "    # if you want something more advanced - check out the\n",
    "    # logging module.\n",
    "    print(res.head())\n",
    "    \n",
    "    # sort on the effect name - this makes is easier to \n",
    "    # look for a specific effect you are interested in.\n",
    "    # another choice would have been to sort on the number\n",
    "    # of times an effect occurs, which would make it easier\n",
    "    # to immediately see which effect is the most abundant.\n",
    "    # However - that is also directly evident from the barplot\n",
    "    # so I like this (both are ok though.)\n",
    "    res = res.sort_index(ascending=False)\n",
    "    res.plot.barh(width=0.8)\n",
    "    \n",
    "    # Add some annotations\n",
    "    plt.title(f\"Variant effect types found in {gene_name}\")\n",
    "    plt.xlabel(\"No variants\")\n",
    "    \n",
    "    # Save as a PNG file\n",
    "    plt.tight_layout() # fix layout issues\n",
    "    plt.savefig(f\"effect_{gene_name}.png\")\n",
    "\n",
    "plot_gene(\"NOTCH1\")"
   ]
  },
  {
   "cell_type": "code",
   "execution_count": 9,
   "id": "0cc638f0",
   "metadata": {
    "tags": []
   },
   "outputs": [
    {
     "name": "stdout",
     "output_type": "stream",
     "text": [
      "Processing gene: OLFM1\n",
      "                       snp                              effect\n",
      "0       chr9:135071454:C:T               upstream_gene_variant\n",
      "1       chr9:135071455:A:G               upstream_gene_variant\n",
      "2       chr9:135075855:T:C                      intron_variant\n",
      "3     chr9:135077073:G:GAA                  frameshift_variant\n",
      "4     chr9:135077073:G:GAA             downstream_gene_variant\n",
      "5     chr9:135077073:G:GAA                      intron_variant\n",
      "6     chr9:135077150:GCA:G                  frameshift_variant\n",
      "7     chr9:135077150:GCA:G             downstream_gene_variant\n",
      "8     chr9:135077150:GCA:G                      intron_variant\n",
      "9       chr9:135078435:T:A             downstream_gene_variant\n",
      "10      chr9:135078435:T:A                      intron_variant\n",
      "11      chr9:135086961:T:G               upstream_gene_variant\n",
      "12      chr9:135086961:T:G                      intron_variant\n",
      "13      chr9:135090281:T:C                  synonymous_variant\n",
      "14      chr9:135090281:T:C                 5_prime_UTR_variant\n",
      "15      chr9:135090281:T:C               upstream_gene_variant\n",
      "16  chr9:135090374:A:ATGTG               upstream_gene_variant\n",
      "17  chr9:135090374:A:ATGTG                      intron_variant\n",
      "18    chr9:135090388:G:GTT               upstream_gene_variant\n",
      "19    chr9:135090388:G:GTT                      intron_variant\n",
      "20     chr9:135096119:T:TC                      intron_variant\n",
      "21      chr9:135097939:C:G                 3_prime_UTR_variant\n",
      "22      chr9:135097939:C:G                      intron_variant\n",
      "23      chr9:135106067:G:C                      intron_variant\n",
      "24      chr9:135106067:G:C  non_coding_transcript_exon_variant\n",
      "25      chr9:135109783:A:G                      intron_variant\n",
      "26      chr9:135110250:T:C                      intron_variant\n",
      "27      chr9:135111381:G:A                      intron_variant\n",
      "28      chr9:135111392:G:A                      intron_variant\n",
      "29      chr9:135111413:C:T                      intron_variant\n",
      "30      chr9:135112436:T:A                      intron_variant\n",
      "31      chr9:135112684:G:A                      intron_variant\n",
      "32      chr9:135112737:C:A                      intron_variant\n",
      "33      chr9:135112812:G:A                      intron_variant\n",
      "34      chr9:135113570:C:T                      intron_variant\n",
      "35      chr9:135113632:T:C                      intron_variant\n",
      "36      chr9:135120224:G:A                 3_prime_UTR_variant\n",
      "37      chr9:135120224:G:A             downstream_gene_variant\n",
      "38      chr9:135120224:G:A  non_coding_transcript_exon_variant\n",
      "39      chr9:135122621:G:A             downstream_gene_variant\n",
      "40      chr9:135122706:C:T             downstream_gene_variant\n",
      "41      chr9:135122721:T:C             downstream_gene_variant\n",
      "42      chr9:135125076:G:C             downstream_gene_variant\n",
      "43      chr9:135125240:G:C             downstream_gene_variant\n",
      "44      chr9:135125249:A:T             downstream_gene_variant\n",
      "effect\n",
      "3_prime_UTR_variant         2\n",
      "5_prime_UTR_variant         1\n",
      "downstream_gene_variant    10\n",
      "frameshift_variant          2\n",
      "intron_variant             21\n",
      "Name: snp, dtype: int64\n"
     ]
    },
    {
     "data": {
      "image/png": "[encoded data removed]",
      "text/plain": [
       "<Figure size 640x480 with 1 Axes>"
      ]
     },
     "metadata": {},
     "output_type": "display_data"
    }
   ],
   "source": [
    "plot_gene(\"OLFM1\");"
   ]
  },
  {
   "cell_type": "code",
   "execution_count": 10,
   "id": "a5684ddc",
   "metadata": {
    "tags": []
   },
   "outputs": [
    {
     "name": "stdout",
     "output_type": "stream",
     "text": [
      "Processing gene: NOTCH1\n"
     ]
    },
    {
     "data": {
      "image/png": "[encoded data removed]",
      "text/plain": [
       "<Figure size 640x480 with 1 Axes>"
      ]
     },
     "metadata": {},
     "output_type": "display_data"
    }
   ],
   "source": [
    "# Now disentangling effects like \n",
    "#   `splice_region_variant&intron_variant` \n",
    "\n",
    "\n",
    "def plot_gene_explode(gene_name):\n",
    "    print(f\"Processing gene: {gene_name}\")\n",
    "    \n",
    "    # get the data from the database.\n",
    "    SQL = f'''SELECT DISTINCT snp,  effect\n",
    "                FROM snp_effect \n",
    "               WHERE snp_effect.gene = \"{gene_name}\"\n",
    "               '''\n",
    "    res = pd.read_sql(SQL, db)\n",
    "    \n",
    "    # see here:\n",
    "    #  https://pandas.pydata.org/pandas-docs/stable/whatsnew/v0.25.0.html#series-explode-to-split-list-like-values-to-rows\n",
    "    #\n",
    "    # First step - convert the effect to a list of effects\n",
    "    # most of the time this will be a list of length 1\n",
    "    res = res.assign(effect=res['effect'].str.split('&'))\n",
    "    \n",
    "    # Second step - \"explode\" on the effect column\n",
    "    # so - if this is a list of more than one item, it\n",
    "    # yields multiple rows - copying all the other columns\n",
    "    res = res.explode('effect')\n",
    "    \n",
    "    # aggregate (groupby) over the effect, and then \n",
    "    # count (len) the number snp records we have \n",
    "    res = res.groupby('effect')['snp'].agg(len)\n",
    "    \n",
    "    # My code is - during development - full of print statements\n",
    "    # if you want something more advanced - check out the\n",
    "    # logging module.\n",
    "    # print(res.head())\n",
    "    \n",
    "    # sort on the effect name - this makes is easier to \n",
    "    # look for a specific effect you are interested in.\n",
    "    # another choice would have been to sort on the number\n",
    "    # of times an effect occurs, which would make it easier\n",
    "    # to immediately see which effect is the most abundant.\n",
    "    # However - that is also directly evident from the barplot\n",
    "    # so I like this (both are ok though.)\n",
    "    res = res.sort_index(ascending=False)\n",
    "    res.plot.barh(width=0.8)\n",
    "    \n",
    "    # Add some annotations\n",
    "    plt.title(f\"Variant effect types found in {gene_name}\")\n",
    "    plt.xlabel(\"No variants\")\n",
    "    \n",
    "    # Save as a PNG file\n",
    "    plt.savefig(f\"effect_{gene_name}.png\")\n",
    "\n",
    "# as you can see - the duplicates dissapeared\n",
    "plot_gene_explode(\"NOTCH1\")"
   ]
  },
  {
   "cell_type": "code",
   "execution_count": null,
   "id": "87f9510e",
   "metadata": {},
   "outputs": [],
   "source": []
  }
 ],
 "metadata": {
  "kernelspec": {
   "display_name": "large_omics_2023",
   "language": "python",
   "name": "large_omics_2023"
  },
  "language_info": {
   "codemirror_mode": {
    "name": "ipython",
    "version": 3
   },
   "file_extension": ".py",
   "mimetype": "text/x-python",
   "name": "python",
   "nbconvert_exporter": "python",
   "pygments_lexer": "ipython3",
   "version": "3.10.8"
  }
 },
 "nbformat": 4,
 "nbformat_minor": 5
}
